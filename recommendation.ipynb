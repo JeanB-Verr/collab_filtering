{
 "cells": [
  {
   "cell_type": "code",
   "execution_count": 822,
   "metadata": {},
   "outputs": [],
   "source": [
    "import surprise"
   ]
  },
  {
   "cell_type": "code",
   "execution_count": 823,
   "metadata": {},
   "outputs": [],
   "source": [
    "import tensorflow as tf"
   ]
  },
  {
   "cell_type": "code",
   "execution_count": 824,
   "metadata": {},
   "outputs": [],
   "source": [
    "from surprise import KNNWithMeans\n",
    "from surprise import Dataset\n",
    "from surprise.model_selection import GridSearchCV\n",
    "from surprise.model_selection import cross_validate, train_test_split\n",
    "import zipfile\n",
    "from surprise import Reader, Dataset, SVD\n",
    "from surprise import accuracy\n",
    "import random\n",
    "from random import randint\n",
    "import re\n",
    "from itertools import groupby\n",
    "import pandas as pd\n",
    "import copy\n",
    "import operator"
   ]
  },
  {
   "cell_type": "markdown",
   "metadata": {},
   "source": [
    "<h4> Read in data"
   ]
  },
  {
   "cell_type": "code",
   "execution_count": 825,
   "metadata": {},
   "outputs": [],
   "source": [
    "# Read data into an array of strings\n",
    "def read_data(extended = False):   \n",
    "    if(extended):\n",
    "        with open('./new_data.data') as f:\n",
    "            all_movies = f.readlines()\n",
    "\n",
    "        # Prepare the data to be used in Surprise\n",
    "        reader = Reader(line_format='user item rating timestamp', sep='\\t')\n",
    "        data = Dataset.load_from_file('./new_data.data', reader=reader)\n",
    "        \n",
    "    else:\n",
    "        with open('./ml-100k/u.data') as f:\n",
    "            all_movies = f.readlines()\n",
    "\n",
    "        # Prepare the data to be used in Surprise\n",
    "        reader = Reader(line_format='user item rating timestamp', sep='\\t')\n",
    "        data = Dataset.load_from_file('./ml-100k/u.data', reader=reader)\n",
    "    \n",
    "    return all_movies, data"
   ]
  },
  {
   "cell_type": "code",
   "execution_count": 826,
   "metadata": {},
   "outputs": [],
   "source": [
    "# all_lines, data = read_data()"
   ]
  },
  {
   "cell_type": "code",
   "execution_count": 827,
   "metadata": {},
   "outputs": [],
   "source": [
    "def create_dataframe(data):\n",
    "    data = [ x.replace('\\t', ', ').replace('\\n', '') for x in data ]\n",
    "\n",
    "    df = pd.DataFrame([sub.split(\",\") for sub in data])\n",
    "    df.rename(columns={0:'userID', 1:'movieID', 2:'rating', 3: 'timestamp'}, \n",
    "                         inplace=True)\n",
    "    df = df.drop(columns=['timestamp'])\n",
    "    return df"
   ]
  },
  {
   "cell_type": "code",
   "execution_count": 828,
   "metadata": {},
   "outputs": [],
   "source": [
    "def strip_content(data):\n",
    "    r_unwanted = re.compile(\"[\\n\\t\\r]\")\n",
    "    return r_unwanted.sub(\",\", data)"
   ]
  },
  {
   "cell_type": "code",
   "execution_count": 829,
   "metadata": {},
   "outputs": [],
   "source": [
    "# df_final = create_dataframe(all_lines)"
   ]
  },
  {
   "cell_type": "markdown",
   "metadata": {},
   "source": [
    "<h4> Grid search for best params </h4>"
   ]
  },
  {
   "cell_type": "code",
   "execution_count": 193,
   "metadata": {
    "scrolled": true
   },
   "outputs": [
    {
     "name": "stdout",
     "output_type": "stream",
     "text": [
      "Computing the msd similarity matrix...\n",
      "Done computing similarity matrix.\n",
      "Computing the msd similarity matrix...\n",
      "Done computing similarity matrix.\n",
      "Computing the msd similarity matrix...\n",
      "Done computing similarity matrix.\n",
      "Computing the msd similarity matrix...\n",
      "Done computing similarity matrix.\n",
      "Computing the msd similarity matrix...\n",
      "Done computing similarity matrix.\n",
      "Computing the msd similarity matrix...\n",
      "Done computing similarity matrix.\n",
      "Computing the msd similarity matrix...\n",
      "Done computing similarity matrix.\n",
      "Computing the msd similarity matrix...\n",
      "Done computing similarity matrix.\n",
      "Computing the msd similarity matrix...\n",
      "Done computing similarity matrix.\n",
      "Computing the msd similarity matrix...\n",
      "Done computing similarity matrix.\n",
      "Computing the msd similarity matrix...\n",
      "Done computing similarity matrix.\n",
      "Computing the msd similarity matrix...\n",
      "Done computing similarity matrix.\n",
      "Computing the msd similarity matrix...\n",
      "Done computing similarity matrix.\n",
      "Computing the msd similarity matrix...\n",
      "Done computing similarity matrix.\n",
      "Computing the msd similarity matrix...\n",
      "Done computing similarity matrix.\n",
      "Computing the msd similarity matrix...\n",
      "Done computing similarity matrix.\n",
      "Computing the msd similarity matrix...\n",
      "Done computing similarity matrix.\n",
      "Computing the msd similarity matrix...\n",
      "Done computing similarity matrix.\n",
      "Computing the msd similarity matrix...\n",
      "Done computing similarity matrix.\n",
      "Computing the msd similarity matrix...\n",
      "Done computing similarity matrix.\n",
      "Computing the msd similarity matrix...\n",
      "Done computing similarity matrix.\n",
      "Computing the msd similarity matrix...\n",
      "Done computing similarity matrix.\n",
      "Computing the msd similarity matrix...\n",
      "Done computing similarity matrix.\n",
      "Computing the msd similarity matrix...\n",
      "Done computing similarity matrix.\n",
      "Computing the msd similarity matrix...\n",
      "Done computing similarity matrix.\n",
      "Computing the msd similarity matrix...\n",
      "Done computing similarity matrix.\n",
      "Computing the msd similarity matrix...\n",
      "Done computing similarity matrix.\n",
      "Computing the msd similarity matrix...\n",
      "Done computing similarity matrix.\n",
      "Computing the msd similarity matrix...\n",
      "Done computing similarity matrix.\n",
      "Computing the msd similarity matrix...\n",
      "Done computing similarity matrix.\n",
      "Computing the msd similarity matrix...\n",
      "Done computing similarity matrix.\n",
      "Computing the msd similarity matrix...\n",
      "Done computing similarity matrix.\n",
      "Computing the msd similarity matrix...\n",
      "Done computing similarity matrix.\n",
      "Computing the msd similarity matrix...\n",
      "Done computing similarity matrix.\n",
      "Computing the msd similarity matrix...\n",
      "Done computing similarity matrix.\n",
      "Computing the msd similarity matrix...\n",
      "Done computing similarity matrix.\n",
      "{'name': 'msd', 'min_support': 3, 'user_based': False}\n"
     ]
    }
   ],
   "source": [
    "param_grid = {\n",
    "    \"name\": [\"msd\", \"cosine\"],\n",
    "    \"min_support\": [3, 4, 5],\n",
    "    \"user_based\": [False, True],\n",
    "}\n",
    "\n",
    "\n",
    "gs = GridSearchCV(KNNWithMeans, param_grid, measures=[\"rmse\", \"mae\"], cv=3)\n",
    "gs.fit(data)\n",
    "\n",
    "# print(gs.best_score[\"rmse\"])\n",
    "print(gs.best_params[\"rmse\"])"
   ]
  },
  {
   "cell_type": "code",
   "execution_count": 161,
   "metadata": {},
   "outputs": [
    {
     "name": "stdout",
     "output_type": "stream",
     "text": [
      "0.9518469960105912\n",
      "{'n_epochs': 10, 'lr_all': 0.005, 'reg_all': 0.1}\n"
     ]
    }
   ],
   "source": [
    "param_grid = {\n",
    "    \"n_epochs\": [5, 10],\n",
    "    \"lr_all\": [0.002, 0.005],\n",
    "    \"reg_all\": [0.01, 0.1, 0.4]\n",
    "}\n",
    "gs = GridSearchCV(SVD, param_grid, measures=[\"rmse\", \"mae\"], cv=3)\n",
    "\n",
    "gs.fit(data)\n",
    "\n",
    "print(gs.best_score[\"rmse\"])\n",
    "print(gs.best_params[\"rmse\"])"
   ]
  },
  {
   "cell_type": "markdown",
   "metadata": {},
   "source": [
    "<h4> SVD algo chosen, with best params obtained from GS"
   ]
  },
  {
   "cell_type": "code",
   "execution_count": 831,
   "metadata": {},
   "outputs": [],
   "source": [
    "algo = SVD(n_epochs=10, lr_all=0.005, reg_all=0.1)"
   ]
  },
  {
   "cell_type": "code",
   "execution_count": 832,
   "metadata": {},
   "outputs": [],
   "source": [
    "# algo = SVD(n_epochs=gs.best_params[\"rmse\"]['n_epochs'], lr_all=gs.best_params[\"rmse\"]['lr_all'], reg_all=gs.best_params[\"rmse\"]['reg_all'])"
   ]
  },
  {
   "cell_type": "markdown",
   "metadata": {},
   "source": [
    "<h4>Cross validation, 5 folds"
   ]
  },
  {
   "cell_type": "code",
   "execution_count": 833,
   "metadata": {},
   "outputs": [],
   "source": [
    "# cross_validate(algo, data, measures=['RMSE', 'MAE'], cv=5, verbose=True)"
   ]
  },
  {
   "cell_type": "markdown",
   "metadata": {},
   "source": [
    "<h4>Create train and test set, apply predictions on test set"
   ]
  },
  {
   "cell_type": "code",
   "execution_count": 834,
   "metadata": {},
   "outputs": [],
   "source": [
    "def RMSE_predict_train_test(data):\n",
    "    # sample random trainset and testset\n",
    "    # test set is made of 25% of the ratings.\n",
    "    trainset, testset = train_test_split(data, test_size=.25)\n",
    "\n",
    "    # We'll use the famous SVD algorithm.\n",
    "    algo = SVD(n_epochs=10, lr_all=0.005, reg_all=0.4)\n",
    "\n",
    "    # Train the algorithm on the trainset, and predict ratings for the testset\n",
    "    algo.fit(trainset)\n",
    "    predictions = algo.test(testset)\n",
    "\n",
    "    # Then compute RMSE\n",
    "    return accuracy.rmse(predictions)"
   ]
  },
  {
   "cell_type": "markdown",
   "metadata": {},
   "source": [
    "<h4> Training Time\n",
    "   "
   ]
  },
  {
   "cell_type": "code",
   "execution_count": 835,
   "metadata": {},
   "outputs": [],
   "source": [
    "import timeit\n",
    "\n",
    "def training_time(data):\n",
    "    start = timeit.default_timer()\n",
    "\n",
    "    trainset = data.build_full_trainset()\n",
    "\n",
    "    algo.fit(trainset)\n",
    "\n",
    "\n",
    "    stop = timeit.default_timer()\n",
    "\n",
    "    print('Time: ', stop - start)  "
   ]
  },
  {
   "cell_type": "markdown",
   "metadata": {},
   "source": [
    "<h4> Create Dataframe"
   ]
  },
  {
   "cell_type": "code",
   "execution_count": 836,
   "metadata": {},
   "outputs": [],
   "source": [
    "def predict_scores_dict(data):\n",
    "    # Build Training set. Needed to fit to create model.\n",
    "    print(\"build trainingset\")\n",
    "    trainset = data.build_full_trainset()\n",
    "    \n",
    "    print(\"training algo\")\n",
    "    algo.fit(trainset)\n",
    "    \n",
    "    # Get all the user and item IDs\n",
    "    user_ids = trainset.all_users()\n",
    "    item_ids = trainset.all_items()\n",
    "    \n",
    "    # Create empty list to store predictions\n",
    "    ratings = {}\n",
    "    ratings_list = []\n",
    "    \n",
    "    print(\"start prediction\")\n",
    "    # For loop, estimate rating of each user for every movie.\n",
    "    for user_id in user_ids:\n",
    "        for item_id in item_ids:\n",
    "            \n",
    "            prediction = algo.predict(str(user_id), str(item_id)).est\n",
    "            ratings['userID'] = int(user_id)\n",
    "            ratings['movieID'] = int(item_id)\n",
    "            ratings['rating'] = prediction\n",
    "            \n",
    "            ratings_list.append(ratings)\n",
    "            \n",
    "            ratings = {}\n",
    "            \n",
    "    return ratings_list"
   ]
  },
  {
   "cell_type": "code",
   "execution_count": 837,
   "metadata": {},
   "outputs": [],
   "source": [
    "import timeit\n",
    "\n",
    "def prediction_time(data):\n",
    "    \n",
    "    start = timeit.default_timer()\n",
    "\n",
    "    predicted_scores_dict =  predict_scores_dict(data)\n",
    "\n",
    "    stop = timeit.default_timer()\n",
    "\n",
    "    print('Time: ', stop - start)  \n"
   ]
  },
  {
   "cell_type": "code",
   "execution_count": 838,
   "metadata": {},
   "outputs": [],
   "source": [
    "# prediction_time(data)"
   ]
  },
  {
   "cell_type": "markdown",
   "metadata": {},
   "source": [
    "<h4> Create extended dataset"
   ]
  },
  {
   "cell_type": "code",
   "execution_count": 839,
   "metadata": {},
   "outputs": [],
   "source": [
    "def create_data(data):\n",
    "    trainset = data.build_full_trainset()\n",
    "\n",
    "    user_ids = trainset.all_users()\n",
    "    item_ids = trainset.all_items()\n",
    "\n",
    "    data_list = []\n",
    "    # Create new movies (168200 in total)\n",
    "    for movie in range(item_ids[-1]+1, item_ids[-1]*100):\n",
    "        # For every movie, there will be 100 users rating the movie\n",
    "        user_generated = [randint(0, user_ids[-1]) for p in range(0, 100)]\n",
    "        for user in user_generated:\n",
    "            # Create a random generated score for the movies\n",
    "            new_data = str(user)+'\\t'+str(movie)+'\\t'+str(random.randint(1,5))+'\\t'+'NaN\\n'\n",
    "\n",
    "            data_list.append(new_data)\n",
    "    return data_list"
   ]
  },
  {
   "cell_type": "code",
   "execution_count": 840,
   "metadata": {},
   "outputs": [],
   "source": [
    "# data_newest = create_data(data)"
   ]
  },
  {
   "cell_type": "markdown",
   "metadata": {},
   "source": [
    "Create the new data (as a list)"
   ]
  },
  {
   "cell_type": "code",
   "execution_count": 841,
   "metadata": {},
   "outputs": [],
   "source": [
    "# new_data = []\n",
    "\n",
    "# new_data.extend(all_lines)\n",
    "# new_data.extend(data_newest)"
   ]
  },
  {
   "cell_type": "markdown",
   "metadata": {},
   "source": [
    "Check difference in sizes\n"
   ]
  },
  {
   "cell_type": "code",
   "execution_count": 842,
   "metadata": {},
   "outputs": [],
   "source": [
    "# len(data_newest)/len(all_lines)"
   ]
  },
  {
   "cell_type": "markdown",
   "metadata": {},
   "source": [
    "<h4> Search Function </h4>"
   ]
  },
  {
   "cell_type": "code",
   "execution_count": 843,
   "metadata": {},
   "outputs": [],
   "source": [
    "df_predicted_scores = pd.DataFrame(predicted_scores_dict)"
   ]
  },
  {
   "cell_type": "code",
   "execution_count": 844,
   "metadata": {},
   "outputs": [],
   "source": [
    "def drop_dups(userID, df_final, predicted_scores_df):\n",
    "\n",
    "    df_user0_predicted = predicted_scores_df[predicted_scores_df['userID'] == userID]\n",
    "    # df_user0_predicted.sort_values('rating', ascending=False)\n",
    "    df_user0_predicted.reset_index(drop=True, inplace=True)\n",
    "    df_final = df_final.astype('int')\n",
    "    df_user0_original = df_final[df_final['userID'] == userID]\n",
    "    df_user0_original.reset_index(drop=True, inplace=True)\n",
    "\n",
    "    dfs_dictionary = {'DF1':df_user0_predicted,'DF2':df_user0_original}\n",
    "    df3=pd.concat(dfs_dictionary)\n",
    "    df3=df3.drop_duplicates(subset=['userID', 'movieID'],keep=False)\n",
    "    \n",
    "    return df3"
   ]
  },
  {
   "cell_type": "code",
   "execution_count": 845,
   "metadata": {},
   "outputs": [],
   "source": [
    "# drop_dups(94, df_final, df_predicted_scores).sort_values('rating', ascending=False)"
   ]
  },
  {
   "cell_type": "code",
   "execution_count": 846,
   "metadata": {},
   "outputs": [],
   "source": [
    "def best_movies_for_user(userID, amount_of_movies, df_final, predicted_scores_df):\n",
    "    ascending_ratings = drop_dups(userID, df_final, predicted_scores_df).sort_values('rating', ascending=False)\n",
    "    return ascending_ratings[0:amount_of_movies]"
   ]
  },
  {
   "cell_type": "code",
   "execution_count": 847,
   "metadata": {},
   "outputs": [],
   "source": [
    "def create_dict_movie_genres():\n",
    "        # def determine_genre():\n",
    "    with open('./ml-100k/u.genre') as f:\n",
    "        all_genres = f.readlines()\n",
    "    movie_genres = {}\n",
    "\n",
    "    for i in range(len(all_genres)-1):\n",
    "        split_genres = all_genres[i].split('|')\n",
    "        movie_genres[int(split_genres[1].split(\"\\n\")[0])] = split_genres[0]\n",
    "        \n",
    "    return movie_genres"
   ]
  },
  {
   "cell_type": "code",
   "execution_count": 848,
   "metadata": {},
   "outputs": [],
   "source": [
    "def genre_per_movie():\n",
    "    with open('./ml-100k/u.item') as f:\n",
    "        movie_details = f.readlines()\n",
    "\n",
    "    movie_details_dict = {}\n",
    "\n",
    "    for i in range(len(movie_details)):\n",
    "        genre_list = ([pos for pos, char in enumerate(movie_details[i][-39:-2]) if char == '1'])\n",
    "        genre_list = np.array(genre_list)\n",
    "        genre_list = genre_list//2\n",
    "        genre_list = genre_list.tolist()\n",
    "        \n",
    "        movie_details_dict[movie_details[i].split('|')[1]] = genre_list\n",
    "\n",
    "    return movie_details_dict"
   ]
  },
  {
   "cell_type": "code",
   "execution_count": 849,
   "metadata": {},
   "outputs": [],
   "source": [
    "def number_to_movie():\n",
    "    with open('./ml-100k/u.item') as f:\n",
    "        movie_details = f.readlines()\n",
    "        \n",
    "    movie_details_dict = {}\n",
    "    \n",
    "    for i in range(len(movie_details)):\n",
    "        movie_details_dict[int(movie_details[i].split('|')[0])] = movie_details[i].split('|')[1]\n",
    "    \n",
    "    movie_details_dict[0] = 'unknown'\n",
    "    return movie_details_dict"
   ]
  },
  {
   "cell_type": "code",
   "execution_count": 850,
   "metadata": {},
   "outputs": [],
   "source": [
    "def insert_into_dataframe(predicted_scores_dict):\n",
    "    complete_prediction = []\n",
    "    complete_prediction = pd.DataFrame(complete_prediction)\n",
    "    for i in range(0, len(predicted_scores_dict), 10000000):\n",
    "        print(\"appending\",i, i+10000000)\n",
    "        complete_prediction = complete_prediction.append(predicted_scores_dict[i:i+10000000])\n",
    "        \n",
    "    return complete_prediction"
   ]
  },
  {
   "cell_type": "code",
   "execution_count": 851,
   "metadata": {},
   "outputs": [],
   "source": [
    "def prepare_data():\n",
    "    all_lines, data = read_data()\n",
    "    \n",
    "    print(\"create df_final\")\n",
    "    df_final = create_dataframe(all_lines).astype('int')\n",
    "    \n",
    "    print(\"predict scores\")\n",
    "    predicted_scores_dict =  predict_scores_dict(data)\n",
    "    \n",
    "    df_predicted_scores = insert_into_dataframe(predicted_scores_dict)\n",
    "    \n",
    "    return df_final, df_predicted_scores"
   ]
  },
  {
   "cell_type": "code",
   "execution_count": 852,
   "metadata": {},
   "outputs": [],
   "source": [
    "def convert_to_titles(best_movies, number_to_movie):\n",
    "    i=0\n",
    "    for movieID in best_movies['movieID']:\n",
    "        best_movies['movieID'][i] = number_to_movie[int(movieID)]\n",
    "        i+=1\n",
    "        \n",
    "    return best_movies"
   ]
  },
  {
   "cell_type": "code",
   "execution_count": 933,
   "metadata": {},
   "outputs": [],
   "source": [
    "def best_genre_for_user(userID, amount_of_movies, genre_per_movie, number_to_movie):\n",
    "    best_movies = best_movies_for_user(userID,amount_of_movies,df_final, df_predicted_scores)    \n",
    "\n",
    "    list_of_genres = []\n",
    "    for movieID in best_movies['movieID']:\n",
    "        list_of_genres.extend(genre_per_movie[number_to_movie[int(movieID)]])\n",
    "\n",
    "    sorted_genres = {value: len(list(freq)) for value, freq in groupby(sorted(list_of_genres))}\n",
    "    \n",
    "    best_genre = max(sorted_genres, key=sorted_genres.get)\n",
    "\n",
    "    return int_to_genre[best_genre]"
   ]
  },
  {
   "cell_type": "code",
   "execution_count": 1111,
   "metadata": {},
   "outputs": [],
   "source": [
    "def create_genre_cols(best_movies, movie_genres):\n",
    "    for i in range(len(movie_genres)):\n",
    "        best_movies[movie_genres[i]] = int(0)\n",
    "    return best_movies"
   ]
  },
  {
   "cell_type": "code",
   "execution_count": 1249,
   "metadata": {},
   "outputs": [],
   "source": [
    "def to_onehot(data):\n",
    "    for int_genre in movie_to_genre[number_to_mov[data['movieID']]]:\n",
    "        data[int_to_genre[int_genre]] = int(1)\n",
    "    return data"
   ]
  },
  {
   "cell_type": "code",
   "execution_count": 1251,
   "metadata": {},
   "outputs": [],
   "source": [
    "def display_specific_genre(data, genre, amount):\n",
    "    best_movies_genre = best_movies_for_genre(data,genre, amount)\n",
    "    best_movies_genre = convert_to_titles(best_movies_genre, number_to_mov) \n",
    "    return best_movies_genre[['userID', 'movieID', 'rating', genre]]"
   ]
  },
  {
   "cell_type": "code",
   "execution_count": null,
   "metadata": {},
   "outputs": [],
   "source": [
    "def best_movies_for_genre(data, genre, amount):\n",
    "    return data[data[genre]==1].sort_values('rating', ascending = False)[0:amount]"
   ]
  },
  {
   "cell_type": "code",
   "execution_count": 1419,
   "metadata": {},
   "outputs": [],
   "source": [
    "def convert_to_titles(best_movies, number_to_movie):\n",
    "    i=0\n",
    "    for movieID in best_movies['movieID']:\n",
    "        best_movies['movieID'].iloc[i] = number_to_mov[int(movieID)]\n",
    "        i+=1\n",
    "        \n",
    "    return best_movies"
   ]
  },
  {
   "cell_type": "code",
   "execution_count": null,
   "metadata": {},
   "outputs": [],
   "source": [
    "def get_avg_scores_for_genre(data, genre):\n",
    "    data_genre = data[data[genre] == 1]\n",
    "    create_dict = {}\n",
    "    for movieID in data_genre['movieID']:\n",
    "        if(movieID in create_dict):\n",
    "            continue\n",
    "        else:\n",
    "\n",
    "            sum_of_rating = sum(data_genre[data_genre['movieID']==movieID]['rating'])\n",
    "            amount_of_ratings = len(data_genre[data_genre['movieID']==movieID]['rating'])\n",
    "\n",
    "            avg_rating = sum_of_rating/amount_of_ratings\n",
    "            create_dict[(movieID)] = avg_rating\n",
    "    return create_dict"
   ]
  },
  {
   "cell_type": "code",
   "execution_count": 1600,
   "metadata": {},
   "outputs": [],
   "source": [
    "def get_best_movies_for_genre(data, genre, amount):\n",
    "    avg_scores = get_avg_scores_for_genre(data, genre)\n",
    "    df_avg_scores  = pd.DataFrame.from_records([avg_scores]).transpose()\n",
    "    df_avg_scores.columns = ['rating']\n",
    "    df_avg_scores['movieID'] = df_avg_scores.index\n",
    "    df_avg_scores = df_avg_scores.sort_values('rating',ascending=False).iloc[0:amount]\n",
    "    df_avg_scores = convert_to_titles(df_avg_scores, amount)\n",
    "    return df_avg_scores"
   ]
  },
  {
   "cell_type": "code",
   "execution_count": 1601,
   "metadata": {},
   "outputs": [],
   "source": [
    "def get_best_movies_for_genre2(data, genre, amount):\n",
    "    avg_scores = get_avg_scores_for_genre(data, 'Action')\n",
    "    avg_scores = sorted(avg_scores.items(), key=lambda kv: kv[1])\n",
    "    avg_scores.reverse()\n",
    "    avg_scores[0:amount]\n",
    "    avg_scores = collections.OrderedDict(avg_scores)\n",
    "    df_avg_scores  = pd.DataFrame.from_records([avg_scores]).transpose()\n",
    "    df_avg_scores.columns = ['rating']\n",
    "    df_avg_scores['movieID'] = df_avg_scores.index\n",
    "    df_avg_scores = df_avg_scores.sort_values('rating',ascending=False).iloc[0:amount]\n",
    "    df_avg_scores = convert_to_titles(df_avg_scores, amount)\n",
    "    return df_avg_scores"
   ]
  },
  {
   "cell_type": "markdown",
   "metadata": {},
   "source": [
    "<h3> Collaberative Filtering Implementation Examples </h3>"
   ]
  },
  {
   "cell_type": "code",
   "execution_count": 1571,
   "metadata": {
    "scrolled": true
   },
   "outputs": [],
   "source": [
    "# Convert int value to movie genres\n",
    "int_to_genre = create_dict_movie_genres()\n",
    "# Convert movie title to list of genres\n",
    "movie_to_genre = genre_per_movie()\n",
    "# Convert int value (original movie representation) to movie name\n",
    "number_to_mov = number_to_movie()"
   ]
  },
  {
   "cell_type": "code",
   "execution_count": 1572,
   "metadata": {},
   "outputs": [
    {
     "name": "stdout",
     "output_type": "stream",
     "text": [
      "create df_final\n",
      "predict scores\n",
      "build trainingset\n",
      "training algo\n",
      "start prediction\n",
      "appending 0 10000000\n"
     ]
    }
   ],
   "source": [
    "# Create DataFrames with predicted scores and \n",
    "df_final, df_predicted_scores = prepare_data()"
   ]
  },
  {
   "cell_type": "code",
   "execution_count": 1575,
   "metadata": {},
   "outputs": [
    {
     "data": {
      "text/html": [
       "<div>\n",
       "<style scoped>\n",
       "    .dataframe tbody tr th:only-of-type {\n",
       "        vertical-align: middle;\n",
       "    }\n",
       "\n",
       "    .dataframe tbody tr th {\n",
       "        vertical-align: top;\n",
       "    }\n",
       "\n",
       "    .dataframe thead th {\n",
       "        text-align: right;\n",
       "    }\n",
       "</style>\n",
       "<table border=\"1\" class=\"dataframe\">\n",
       "  <thead>\n",
       "    <tr style=\"text-align: right;\">\n",
       "      <th></th>\n",
       "      <th>userID</th>\n",
       "      <th>movieID</th>\n",
       "      <th>rating</th>\n",
       "    </tr>\n",
       "  </thead>\n",
       "  <tbody>\n",
       "    <tr>\n",
       "      <td>0</td>\n",
       "      <td>0</td>\n",
       "      <td>0</td>\n",
       "      <td>3.529860</td>\n",
       "    </tr>\n",
       "    <tr>\n",
       "      <td>1</td>\n",
       "      <td>0</td>\n",
       "      <td>1</td>\n",
       "      <td>3.891188</td>\n",
       "    </tr>\n",
       "    <tr>\n",
       "      <td>2</td>\n",
       "      <td>0</td>\n",
       "      <td>2</td>\n",
       "      <td>3.381856</td>\n",
       "    </tr>\n",
       "    <tr>\n",
       "      <td>3</td>\n",
       "      <td>0</td>\n",
       "      <td>3</td>\n",
       "      <td>3.179301</td>\n",
       "    </tr>\n",
       "    <tr>\n",
       "      <td>4</td>\n",
       "      <td>0</td>\n",
       "      <td>4</td>\n",
       "      <td>3.569666</td>\n",
       "    </tr>\n",
       "    <tr>\n",
       "      <td>...</td>\n",
       "      <td>...</td>\n",
       "      <td>...</td>\n",
       "      <td>...</td>\n",
       "    </tr>\n",
       "    <tr>\n",
       "      <td>1586121</td>\n",
       "      <td>942</td>\n",
       "      <td>1677</td>\n",
       "      <td>3.803723</td>\n",
       "    </tr>\n",
       "    <tr>\n",
       "      <td>1586122</td>\n",
       "      <td>942</td>\n",
       "      <td>1678</td>\n",
       "      <td>3.835867</td>\n",
       "    </tr>\n",
       "    <tr>\n",
       "      <td>1586123</td>\n",
       "      <td>942</td>\n",
       "      <td>1679</td>\n",
       "      <td>4.002668</td>\n",
       "    </tr>\n",
       "    <tr>\n",
       "      <td>1586124</td>\n",
       "      <td>942</td>\n",
       "      <td>1680</td>\n",
       "      <td>3.839924</td>\n",
       "    </tr>\n",
       "    <tr>\n",
       "      <td>1586125</td>\n",
       "      <td>942</td>\n",
       "      <td>1681</td>\n",
       "      <td>3.996875</td>\n",
       "    </tr>\n",
       "  </tbody>\n",
       "</table>\n",
       "<p>1586126 rows × 3 columns</p>\n",
       "</div>"
      ],
      "text/plain": [
       "         userID  movieID    rating\n",
       "0             0        0  3.529860\n",
       "1             0        1  3.891188\n",
       "2             0        2  3.381856\n",
       "3             0        3  3.179301\n",
       "4             0        4  3.569666\n",
       "...         ...      ...       ...\n",
       "1586121     942     1677  3.803723\n",
       "1586122     942     1678  3.835867\n",
       "1586123     942     1679  4.002668\n",
       "1586124     942     1680  3.839924\n",
       "1586125     942     1681  3.996875\n",
       "\n",
       "[1586126 rows x 3 columns]"
      ]
     },
     "execution_count": 1575,
     "metadata": {},
     "output_type": "execute_result"
    }
   ],
   "source": [
    "df_predicted_scores"
   ]
  },
  {
   "cell_type": "code",
   "execution_count": 1221,
   "metadata": {},
   "outputs": [],
   "source": [
    "best_movies = best_movies_for_user(130,10,df_final, df_predicted_scores)\n",
    "best_movies = best_movies.astype('str')\n",
    "best_movies = convert_to_titles(best_movies, number_to_mov)"
   ]
  },
  {
   "cell_type": "code",
   "execution_count": 1576,
   "metadata": {},
   "outputs": [
    {
     "data": {
      "text/html": [
       "<div>\n",
       "<style scoped>\n",
       "    .dataframe tbody tr th:only-of-type {\n",
       "        vertical-align: middle;\n",
       "    }\n",
       "\n",
       "    .dataframe tbody tr th {\n",
       "        vertical-align: top;\n",
       "    }\n",
       "\n",
       "    .dataframe thead th {\n",
       "        text-align: right;\n",
       "    }\n",
       "</style>\n",
       "<table border=\"1\" class=\"dataframe\">\n",
       "  <thead>\n",
       "    <tr style=\"text-align: right;\">\n",
       "      <th></th>\n",
       "      <th></th>\n",
       "      <th>userID</th>\n",
       "      <th>movieID</th>\n",
       "      <th>rating</th>\n",
       "    </tr>\n",
       "  </thead>\n",
       "  <tbody>\n",
       "    <tr>\n",
       "      <td rowspan=\"10\" valign=\"top\">DF1</td>\n",
       "      <td>318</td>\n",
       "      <td>130</td>\n",
       "      <td>Schindler's List (1993)</td>\n",
       "      <td>5.0</td>\n",
       "    </tr>\n",
       "    <tr>\n",
       "      <td>169</td>\n",
       "      <td>130</td>\n",
       "      <td>Wrong Trousers, The (1993)</td>\n",
       "      <td>5.0</td>\n",
       "    </tr>\n",
       "    <tr>\n",
       "      <td>408</td>\n",
       "      <td>130</td>\n",
       "      <td>Close Shave, A (1995)</td>\n",
       "      <td>5.0</td>\n",
       "    </tr>\n",
       "    <tr>\n",
       "      <td>483</td>\n",
       "      <td>130</td>\n",
       "      <td>Casablanca (1942)</td>\n",
       "      <td>4.959193584271117</td>\n",
       "    </tr>\n",
       "    <tr>\n",
       "      <td>603</td>\n",
       "      <td>130</td>\n",
       "      <td>Rear Window (1954)</td>\n",
       "      <td>4.921488596159989</td>\n",
       "    </tr>\n",
       "    <tr>\n",
       "      <td>178</td>\n",
       "      <td>130</td>\n",
       "      <td>12 Angry Men (1957)</td>\n",
       "      <td>4.920400213892882</td>\n",
       "    </tr>\n",
       "    <tr>\n",
       "      <td>480</td>\n",
       "      <td>130</td>\n",
       "      <td>North by Northwest (1959)</td>\n",
       "      <td>4.894424521050037</td>\n",
       "    </tr>\n",
       "    <tr>\n",
       "      <td>114</td>\n",
       "      <td>130</td>\n",
       "      <td>Wallace &amp; Gromit: The Best of Aardman Animatio...</td>\n",
       "      <td>4.889080246577413</td>\n",
       "    </tr>\n",
       "    <tr>\n",
       "      <td>513</td>\n",
       "      <td>130</td>\n",
       "      <td>Third Man, The (1949)</td>\n",
       "      <td>4.879865672655963</td>\n",
       "    </tr>\n",
       "    <tr>\n",
       "      <td>657</td>\n",
       "      <td>130</td>\n",
       "      <td>Manchurian Candidate, The (1962)</td>\n",
       "      <td>4.852145285353883</td>\n",
       "    </tr>\n",
       "  </tbody>\n",
       "</table>\n",
       "</div>"
      ],
      "text/plain": [
       "        userID                                            movieID  \\\n",
       "DF1 318    130                            Schindler's List (1993)   \n",
       "    169    130                         Wrong Trousers, The (1993)   \n",
       "    408    130                              Close Shave, A (1995)   \n",
       "    483    130                                  Casablanca (1942)   \n",
       "    603    130                                 Rear Window (1954)   \n",
       "    178    130                                12 Angry Men (1957)   \n",
       "    480    130                          North by Northwest (1959)   \n",
       "    114    130  Wallace & Gromit: The Best of Aardman Animatio...   \n",
       "    513    130                              Third Man, The (1949)   \n",
       "    657    130                   Manchurian Candidate, The (1962)   \n",
       "\n",
       "                    rating  \n",
       "DF1 318                5.0  \n",
       "    169                5.0  \n",
       "    408                5.0  \n",
       "    483  4.959193584271117  \n",
       "    603  4.921488596159989  \n",
       "    178  4.920400213892882  \n",
       "    480  4.894424521050037  \n",
       "    114  4.889080246577413  \n",
       "    513  4.879865672655963  \n",
       "    657  4.852145285353883  "
      ]
     },
     "execution_count": 1576,
     "metadata": {},
     "output_type": "execute_result"
    }
   ],
   "source": [
    "best_movies"
   ]
  },
  {
   "cell_type": "code",
   "execution_count": 1577,
   "metadata": {},
   "outputs": [
    {
     "data": {
      "text/plain": [
       "'Drama'"
      ]
     },
     "execution_count": 1577,
     "metadata": {},
     "output_type": "execute_result"
    }
   ],
   "source": [
    "best_genre_for_user(148, 10, movie_to_genre, number_to_mov)"
   ]
  },
  {
   "cell_type": "code",
   "execution_count": 1224,
   "metadata": {},
   "outputs": [],
   "source": [
    "best_movies_extended = create_genre_cols(df_predicted_scores, int_to_genre)"
   ]
  },
  {
   "cell_type": "code",
   "execution_count": 1163,
   "metadata": {},
   "outputs": [],
   "source": [
    "data = best_movies_extended.apply(to_onehot, axis = 1)"
   ]
  },
  {
   "cell_type": "code",
   "execution_count": 1342,
   "metadata": {},
   "outputs": [],
   "source": [
    "create_avg_scores_dict = get_avg_scores_for_movie()"
   ]
  },
  {
   "cell_type": "code",
   "execution_count": 1615,
   "metadata": {},
   "outputs": [
    {
     "data": {
      "text/html": [
       "<div>\n",
       "<style scoped>\n",
       "    .dataframe tbody tr th:only-of-type {\n",
       "        vertical-align: middle;\n",
       "    }\n",
       "\n",
       "    .dataframe tbody tr th {\n",
       "        vertical-align: top;\n",
       "    }\n",
       "\n",
       "    .dataframe thead th {\n",
       "        text-align: right;\n",
       "    }\n",
       "</style>\n",
       "<table border=\"1\" class=\"dataframe\">\n",
       "  <thead>\n",
       "    <tr style=\"text-align: right;\">\n",
       "      <th></th>\n",
       "      <th>rating</th>\n",
       "      <th>movieID</th>\n",
       "    </tr>\n",
       "  </thead>\n",
       "  <tbody>\n",
       "    <tr>\n",
       "      <td>408.0</td>\n",
       "      <td>4.467038</td>\n",
       "      <td>Close Shave, A (1995)</td>\n",
       "    </tr>\n",
       "    <tr>\n",
       "      <td>169.0</td>\n",
       "      <td>4.423520</td>\n",
       "      <td>Wrong Trousers, The (1993)</td>\n",
       "    </tr>\n",
       "    <tr>\n",
       "      <td>480.0</td>\n",
       "      <td>4.269971</td>\n",
       "      <td>North by Northwest (1959)</td>\n",
       "    </tr>\n",
       "    <tr>\n",
       "      <td>251.0</td>\n",
       "      <td>4.168339</td>\n",
       "      <td>Shall We Dance? (1996)</td>\n",
       "    </tr>\n",
       "    <tr>\n",
       "      <td>316.0</td>\n",
       "      <td>4.162157</td>\n",
       "      <td>As Good As It Gets (1997)</td>\n",
       "    </tr>\n",
       "  </tbody>\n",
       "</table>\n",
       "</div>"
      ],
      "text/plain": [
       "         rating                     movieID\n",
       "408.0  4.467038       Close Shave, A (1995)\n",
       "169.0  4.423520  Wrong Trousers, The (1993)\n",
       "480.0  4.269971   North by Northwest (1959)\n",
       "251.0  4.168339      Shall We Dance? (1996)\n",
       "316.0  4.162157   As Good As It Gets (1997)"
      ]
     },
     "execution_count": 1615,
     "metadata": {},
     "output_type": "execute_result"
    }
   ],
   "source": [
    "get_best_movies_for_genre(data,'Comedy',5)"
   ]
  },
  {
   "cell_type": "code",
   "execution_count": 1611,
   "metadata": {},
   "outputs": [
    {
     "name": "stdout",
     "output_type": "stream",
     "text": [
      "1.4644015000085346\n",
      "1.6314131999970414\n"
     ]
    }
   ],
   "source": [
    "start = timeit.default_timer()\n",
    "test = get_best_movies_for_genre(data, 'Action', 1000)\n",
    "stop = timeit.default_timer()\n",
    "print(stop-start)\n",
    "\n",
    "start=timeit.default_timer()\n",
    "test2 = get_best_movies_for_genre2(data, 'Action', 1000)\n",
    "stop = timeit.default_timer()\n",
    "print(stop - start)"
   ]
  },
  {
   "cell_type": "code",
   "execution_count": null,
   "metadata": {},
   "outputs": [],
   "source": []
  }
 ],
 "metadata": {
  "kernelspec": {
   "display_name": "Python 3",
   "language": "python",
   "name": "python3"
  },
  "language_info": {
   "codemirror_mode": {
    "name": "ipython",
    "version": 3
   },
   "file_extension": ".py",
   "mimetype": "text/x-python",
   "name": "python",
   "nbconvert_exporter": "python",
   "pygments_lexer": "ipython3",
   "version": "3.6.9"
  }
 },
 "nbformat": 4,
 "nbformat_minor": 2
}
